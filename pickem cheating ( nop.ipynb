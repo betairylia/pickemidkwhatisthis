{
 "cells": [
  {
   "cell_type": "code",
   "execution_count": 11,
   "metadata": {},
   "outputs": [
    {
     "data": {
      "text/plain": [
       "1"
      ]
     },
     "execution_count": 11,
     "metadata": {},
     "output_type": "execute_result"
    }
   ],
   "source": [
    "import numpy as np\n",
    "from matplotlib import pyplot as plt\n",
    "import random\n",
    "\n",
    "np.random.normal(1, 0.1, size=(10))\n",
    "random.randint(0, 100)\n",
    "max([0, 1, 2])\n",
    "np.argmax([0, 4, 2])"
   ]
  },
  {
   "cell_type": "code",
   "execution_count": 22,
   "metadata": {},
   "outputs": [],
   "source": [
    "class Team():\n",
    "    \n",
    "    def __init__(self, mu, sigma):\n",
    "        self.mu = mu\n",
    "        self.si = sigma\n",
    "        self.pickMap = self.pickMap_teamBest # use a steragy\n",
    "    \n",
    "    def preparePool(self, poollen):\n",
    "        self.poolMu, self.poolSi = np.random.normal(self.mu, self.si, size = (poollen)), np.abs(np.random.normal(2 * self.si, size = (poollen)))\n",
    "        return self.poolMu, self.poolSi\n",
    "    \n",
    "    def pickMap_teamBest(self, picked):\n",
    "        maxVal = 0\n",
    "        maxIdx = 0\n",
    "        for i in range(len(self.poolMu)):\n",
    "            if self.poolMu[i] > maxVal and picked[i] == False:\n",
    "                maxVal = self.poolMu[i]\n",
    "                maxIdx = i\n",
    "                \n",
    "        return maxIdx\n",
    "    \n",
    "    def pickMap_random(self, picked):\n",
    "        raise NotImplementedError\n",
    "        \n",
    "    def playMap(self, idx):\n",
    "        return np.sum(np.random.normal(self.poolMu[idx], self.poolSi[idx], size = (2))) # 2v2"
   ]
  },
  {
   "cell_type": "code",
   "execution_count": 13,
   "metadata": {},
   "outputs": [],
   "source": [
    "def match(teamA, teamB, scoreToWin = 7, poolsize = 16):\n",
    "    \n",
    "    teamA.preparePool(poolsize)\n",
    "    teamB.preparePool(poolsize)\n",
    "    \n",
    "    team = [teamA, teamB]\n",
    "    score = [0 for t in team]\n",
    "    currmap = 0\n",
    "    picked = [False for i in range(poolsize)]\n",
    "    picked[-1] = True # TB cannot be picked\n",
    "    \n",
    "    # roll\n",
    "    if random.randint(0, 100) > random.randint(0, 100):\n",
    "        tid = 0\n",
    "    else:\n",
    "        tid = 1\n",
    "        \n",
    "    while max(score) < scoreToWin:\n",
    "        # pick\n",
    "        if min(score) < (scoreToWin - 1):\n",
    "            currmap = team[tid].pickMap(picked)\n",
    "            picked[currmap] = True\n",
    "        # TB HYPE\n",
    "        else:\n",
    "            currmap = poolsize - 1\n",
    "            \n",
    "        # play the map\n",
    "        teamScores = [t.playMap(currmap) for t in team]\n",
    "        score[np.argmax(teamScores)] += 1\n",
    "    \n",
    "    return score"
   ]
  },
  {
   "cell_type": "code",
   "execution_count": 81,
   "metadata": {},
   "outputs": [
    {
     "data": {
      "text/plain": [
       "[5, 7]"
      ]
     },
     "execution_count": 81,
     "metadata": {},
     "output_type": "execute_result"
    }
   ],
   "source": [
    "a = Team(10, 1)\n",
    "b = Team(15, 5)\n",
    "\n",
    "match(a, b)"
   ]
  },
  {
   "cell_type": "code",
   "execution_count": 99,
   "metadata": {},
   "outputs": [
    {
     "data": {
      "application/vnd.jupyter.widget-view+json": {
       "model_id": "b77b97d406ab49f8b6c5d0a54ba2bb6d",
       "version_major": 2,
       "version_minor": 0
      },
      "text/plain": [
       "HBox(children=(IntProgress(value=0, max=10000), HTML(value='')))"
      ]
     },
     "metadata": {},
     "output_type": "display_data"
    },
    {
     "name": "stdout",
     "output_type": "stream",
     "text": [
      "\n"
     ]
    },
    {
     "data": {
      "text/plain": [
       "<BarContainer object of 7 artists>"
      ]
     },
     "execution_count": 99,
     "metadata": {},
     "output_type": "execute_result"
    },
    {
     "data": {
      "image/png": "[encoded data removed]",
      "text/plain": [
       "<Figure size 432x288 with 1 Axes>"
      ]
     },
     "metadata": {
      "needs_background": "light"
     },
     "output_type": "display_data"
    }
   ],
   "source": [
    "from tqdm.notebook import tqdm as tqdm\n",
    "\n",
    "a = Team(10, 5)\n",
    "b = Team(14, 3)\n",
    "res = [0 for i in range(7)]\n",
    "\n",
    "for i in tqdm(range(10000)):\n",
    "    result = match(a, b)\n",
    "    res[min(result)] += 1\n",
    "\n",
    "plt.bar([i for i in range(7)], res)"
   ]
  },
  {
   "cell_type": "code",
   "execution_count": 93,
   "metadata": {},
   "outputs": [
    {
     "data": {
      "application/vnd.jupyter.widget-view+json": {
       "model_id": "d322c10ed1d9450cbca0283d3e5258f6",
       "version_major": 2,
       "version_minor": 0
      },
      "text/plain": [
       "HBox(children=(IntProgress(value=0, max=50000), HTML(value='')))"
      ]
     },
     "metadata": {},
     "output_type": "display_data"
    },
    {
     "name": "stdout",
     "output_type": "stream",
     "text": [
      "\n"
     ]
    },
    {
     "data": {
      "text/plain": [
       "<BarContainer object of 7 artists>"
      ]
     },
     "execution_count": 93,
     "metadata": {},
     "output_type": "execute_result"
    },
    {
     "data": {
      "image/png": "[encoded data removed]",
      "text/plain": [
       "<Figure size 432x288 with 1 Axes>"
      ]
     },
     "metadata": {
      "needs_background": "light"
     },
     "output_type": "display_data"
    }
   ],
   "source": [
    "from tqdm.notebook import tqdm as tqdm\n",
    "\n",
    "teamMu = 10\n",
    "teamSi = 3\n",
    "teamSiMu = 2\n",
    "teamSiSi = 4\n",
    "\n",
    "res = [0 for i in range(7)]\n",
    "\n",
    "for i in tqdm(range(50000)):\n",
    "    a = Team(np.random.normal(teamMu, teamSi), np.abs(np.random.normal(teamSiMu, teamSiSi)))\n",
    "    b = Team(np.random.normal(teamMu, teamSi), np.abs(np.random.normal(teamSiMu, teamSiSi)))\n",
    "    result = match(a, b)\n",
    "    res[min(result)] += 1\n",
    "\n",
    "plt.bar([i for i in range(7)], res)"
   ]
  }
 ],
 "metadata": {
  "kernelspec": {
   "display_name": "Python 3",
   "language": "python",
   "name": "python3"
  },
  "language_info": {
   "codemirror_mode": {
    "name": "ipython",
    "version": 3
   },
   "file_extension": ".py",
   "mimetype": "text/x-python",
   "name": "python",
   "nbconvert_exporter": "python",
   "pygments_lexer": "ipython3",
   "version": "3.7.4"
  }
 },
 "nbformat": 4,
 "nbformat_minor": 2
}
